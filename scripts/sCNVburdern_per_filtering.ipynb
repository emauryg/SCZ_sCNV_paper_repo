{
 "cells": [
  {
   "cell_type": "code",
   "execution_count": 1,
   "id": "61beeb50",
   "metadata": {},
   "outputs": [
    {
     "name": "stderr",
     "output_type": "stream",
     "text": [
      "Warning message in system(\"timedatectl\", intern = TRUE):\n",
      "“running command 'timedatectl' had status 1”\n",
      "\u001b[1mRows: \u001b[22m\u001b[34m28052\u001b[39m \u001b[1mColumns: \u001b[22m\u001b[34m50\u001b[39m\n",
      "\u001b[36m──\u001b[39m \u001b[1mColumn specification\u001b[22m \u001b[36m────────────────────────────────────────────────────────────────────────────────────────────────\u001b[39m\n",
      "\u001b[1mDelimiter:\u001b[22m \",\"\n",
      "\u001b[31mchr\u001b[39m (13): SAMPLE, COMPUTED_GENDER, CHROM, P_ARM, Q_ARM, TYPE, batch, arrayNa...\n",
      "\u001b[32mdbl\u001b[39m (37): BEG_GRCh37, END_GRCh37, LENGTH, N_SITES, NHETS, N50_HETS, BDEV, BD...\n",
      "\n",
      "\u001b[36mℹ\u001b[39m Use `spec()` to retrieve the full column specification for this data.\n",
      "\u001b[36mℹ\u001b[39m Specify the column types or set `show_col_types = FALSE` to quiet this message.\n",
      "\u001b[1mRows: \u001b[22m\u001b[34m18407\u001b[39m \u001b[1mColumns: \u001b[22m\u001b[34m49\u001b[39m\n",
      "\u001b[36m──\u001b[39m \u001b[1mColumn specification\u001b[22m \u001b[36m────────────────────────────────────────────────────────────────────────────────────────────────\u001b[39m\n",
      "\u001b[1mDelimiter:\u001b[22m \",\"\n",
      "\u001b[31mchr\u001b[39m (13): SAMPLE, COMPUTED_GENDER, CHROM, P_ARM, Q_ARM, TYPE, batch, arrayNa...\n",
      "\u001b[32mdbl\u001b[39m (36): BEG_GRCh37, END_GRCh37, LENGTH, N_SITES, NHETS, N50_HETS, BDEV, BD...\n",
      "\n",
      "\u001b[36mℹ\u001b[39m Use `spec()` to retrieve the full column specification for this data.\n",
      "\u001b[36mℹ\u001b[39m Specify the column types or set `show_col_types = FALSE` to quiet this message.\n"
     ]
    }
   ],
   "source": [
    "## Download data\n",
    "\n",
    "suppressMessages(library(tidyverse))\n",
    "suppressMessages(library(lme4))\n",
    "suppressMessages(library(lmerTest))\n",
    "suppressMessages(library(ggridges))\n",
    "\n",
    "\n",
    "## Download Illumina data\n",
    "df_mcnv3_illum <- read_csv(\"../data/Illumina_nofilter_mCNVs.csv\")\n",
    "if(colnames(df_mcnv3_illum)[2] == \"COMPUTED_GENDER\"){\n",
    "  colnames(df_mcnv3_illum)[2] = \"SEX\"\n",
    "}## Download Affy data\n",
    "\n",
    "df_mcnv3_affy <- read_csv(\"..//data/Affy6_nofilter_mCNVs.csv\")\n",
    "\n",
    "if(colnames(df_mcnv3_affy)[2] == \"COMPUTED_GENDER\"){\n",
    "  colnames(df_mcnv3_affy)[2] = \"SEX\"\n",
    "}\n",
    "\n",
    "\n",
    "## Merge\n",
    "df_mcnv3 = rbind(df_mcnv3_illum %>% dplyr::select(-c(CALL_RATE)), df_mcnv3_affy)\n",
    "\n",
    "\n"
   ]
  },
  {
   "cell_type": "code",
   "execution_count": 2,
   "id": "b8dab235",
   "metadata": {},
   "outputs": [
    {
     "name": "stdout",
     "output_type": "stream",
     "text": [
      "No filtering"
     ]
    },
    {
     "data": {
      "text/html": [
       "1341"
      ],
      "text/latex": [
       "1341"
      ],
      "text/markdown": [
       "1341"
      ],
      "text/plain": [
       "[1] 1341"
      ]
     },
     "metadata": {},
     "output_type": "display_data"
    },
    {
     "data": {
      "text/html": [
       "<table class=\"dataframe\">\n",
       "<caption>A tibble: 2 × 3</caption>\n",
       "<thead>\n",
       "\t<tr><th scope=col>label</th><th scope=col>burden</th><th scope=col>burden_fraction</th></tr>\n",
       "\t<tr><th scope=col>&lt;chr&gt;</th><th scope=col>&lt;int&gt;</th><th scope=col>&lt;dbl&gt;</th></tr>\n",
       "</thead>\n",
       "<tbody>\n",
       "\t<tr><td>ctrl</td><td>567</td><td>0.04867788</td></tr>\n",
       "\t<tr><td>SCZ </td><td>543</td><td>0.04230949</td></tr>\n",
       "</tbody>\n",
       "</table>\n"
      ],
      "text/latex": [
       "A tibble: 2 × 3\n",
       "\\begin{tabular}{lll}\n",
       " label & burden & burden\\_fraction\\\\\n",
       " <chr> & <int> & <dbl>\\\\\n",
       "\\hline\n",
       "\t ctrl & 567 & 0.04867788\\\\\n",
       "\t SCZ  & 543 & 0.04230949\\\\\n",
       "\\end{tabular}\n"
      ],
      "text/markdown": [
       "\n",
       "A tibble: 2 × 3\n",
       "\n",
       "| label &lt;chr&gt; | burden &lt;int&gt; | burden_fraction &lt;dbl&gt; |\n",
       "|---|---|---|\n",
       "| ctrl | 567 | 0.04867788 |\n",
       "| SCZ  | 543 | 0.04230949 |\n",
       "\n"
      ],
      "text/plain": [
       "  label burden burden_fraction\n",
       "1 ctrl  567    0.04867788     \n",
       "2 SCZ   543    0.04230949     "
      ]
     },
     "metadata": {},
     "output_type": "display_data"
    },
    {
     "data": {
      "text/plain": [
       "\n",
       "\tFisher's Exact Test for Count Data\n",
       "\n",
       "data:  matrix(c(df_counts_total$burden[2], n_dx - df_counts_total$burden[2], df_counts_total$burden[1], n_ctrl - df_counts_total$burden[1]), ncol = 2, byrow = TRUE)\n",
       "p-value = 0.01784\n",
       "alternative hypothesis: true odds ratio is not equal to 1\n",
       "95 percent confidence interval:\n",
       " 0.7639459 0.9757263\n",
       "sample estimates:\n",
       "odds ratio \n",
       " 0.8633994 \n"
      ]
     },
     "metadata": {},
     "output_type": "display_data"
    },
    {
     "name": "stdout",
     "output_type": "stream",
     "text": [
      "MHC filtering\n"
     ]
    },
    {
     "data": {
      "text/html": [
       "1185"
      ],
      "text/latex": [
       "1185"
      ],
      "text/markdown": [
       "1185"
      ],
      "text/plain": [
       "[1] 1185"
      ]
     },
     "metadata": {},
     "output_type": "display_data"
    },
    {
     "data": {
      "text/html": [
       "<table class=\"dataframe\">\n",
       "<caption>A tibble: 2 × 3</caption>\n",
       "<thead>\n",
       "\t<tr><th scope=col>label</th><th scope=col>burden</th><th scope=col>burden_fraction</th></tr>\n",
       "\t<tr><th scope=col>&lt;chr&gt;</th><th scope=col>&lt;int&gt;</th><th scope=col>&lt;dbl&gt;</th></tr>\n",
       "</thead>\n",
       "<tbody>\n",
       "\t<tr><td>ctrl</td><td>498</td><td>0.04275412</td></tr>\n",
       "\t<tr><td>SCZ </td><td>503</td><td>0.03919277</td></tr>\n",
       "</tbody>\n",
       "</table>\n"
      ],
      "text/latex": [
       "A tibble: 2 × 3\n",
       "\\begin{tabular}{lll}\n",
       " label & burden & burden\\_fraction\\\\\n",
       " <chr> & <int> & <dbl>\\\\\n",
       "\\hline\n",
       "\t ctrl & 498 & 0.04275412\\\\\n",
       "\t SCZ  & 503 & 0.03919277\\\\\n",
       "\\end{tabular}\n"
      ],
      "text/markdown": [
       "\n",
       "A tibble: 2 × 3\n",
       "\n",
       "| label &lt;chr&gt; | burden &lt;int&gt; | burden_fraction &lt;dbl&gt; |\n",
       "|---|---|---|\n",
       "| ctrl | 498 | 0.04275412 |\n",
       "| SCZ  | 503 | 0.03919277 |\n",
       "\n"
      ],
      "text/plain": [
       "  label burden burden_fraction\n",
       "1 ctrl  498    0.04275412     \n",
       "2 SCZ   503    0.03919277     "
      ]
     },
     "metadata": {},
     "output_type": "display_data"
    },
    {
     "data": {
      "text/plain": [
       "\n",
       "\tFisher's Exact Test for Count Data\n",
       "\n",
       "data:  matrix(c(df_counts_total$burden[2], n_dx - df_counts_total$burden[2], df_counts_total$burden[1], n_ctrl - df_counts_total$burden[1]), ncol = 2, byrow = TRUE)\n",
       "p-value = 0.1647\n",
       "alternative hypothesis: true odds ratio is not equal to 1\n",
       "95 percent confidence interval:\n",
       " 0.8031163 1.0386446\n",
       "sample estimates:\n",
       "odds ratio \n",
       " 0.9133075 \n"
      ]
     },
     "metadata": {},
     "output_type": "display_data"
    },
    {
     "name": "stdout",
     "output_type": "stream",
     "text": [
      "LOH filtering\n"
     ]
    },
    {
     "data": {
      "text/html": [
       "320"
      ],
      "text/latex": [
       "320"
      ],
      "text/markdown": [
       "320"
      ],
      "text/plain": [
       "[1] 320"
      ]
     },
     "metadata": {},
     "output_type": "display_data"
    },
    {
     "data": {
      "text/html": [
       "<table class=\"dataframe\">\n",
       "<caption>A tibble: 2 × 3</caption>\n",
       "<thead>\n",
       "\t<tr><th scope=col>label</th><th scope=col>burden</th><th scope=col>burden_fraction</th></tr>\n",
       "\t<tr><th scope=col>&lt;chr&gt;</th><th scope=col>&lt;int&gt;</th><th scope=col>&lt;dbl&gt;</th></tr>\n",
       "</thead>\n",
       "<tbody>\n",
       "\t<tr><td>ctrl</td><td> 99</td><td>0.008499313</td></tr>\n",
       "\t<tr><td>SCZ </td><td>166</td><td>0.012934393</td></tr>\n",
       "</tbody>\n",
       "</table>\n"
      ],
      "text/latex": [
       "A tibble: 2 × 3\n",
       "\\begin{tabular}{lll}\n",
       " label & burden & burden\\_fraction\\\\\n",
       " <chr> & <int> & <dbl>\\\\\n",
       "\\hline\n",
       "\t ctrl &  99 & 0.008499313\\\\\n",
       "\t SCZ  & 166 & 0.012934393\\\\\n",
       "\\end{tabular}\n"
      ],
      "text/markdown": [
       "\n",
       "A tibble: 2 × 3\n",
       "\n",
       "| label &lt;chr&gt; | burden &lt;int&gt; | burden_fraction &lt;dbl&gt; |\n",
       "|---|---|---|\n",
       "| ctrl |  99 | 0.008499313 |\n",
       "| SCZ  | 166 | 0.012934393 |\n",
       "\n"
      ],
      "text/plain": [
       "  label burden burden_fraction\n",
       "1 ctrl   99    0.008499313    \n",
       "2 SCZ   166    0.012934393    "
      ]
     },
     "metadata": {},
     "output_type": "display_data"
    },
    {
     "data": {
      "text/plain": [
       "\n",
       "\tFisher's Exact Test for Count Data\n",
       "\n",
       "data:  matrix(c(df_counts_total$burden[2], n_dx - df_counts_total$burden[2], df_counts_total$burden[1], n_ctrl - df_counts_total$burden[1]), ncol = 2, byrow = TRUE)\n",
       "p-value = 0.0008181\n",
       "alternative hypothesis: true odds ratio is not equal to 1\n",
       "95 percent confidence interval:\n",
       " 1.183100 1.983619\n",
       "sample estimates:\n",
       "odds ratio \n",
       "  1.528622 \n"
      ]
     },
     "metadata": {},
     "output_type": "display_data"
    },
    {
     "name": "stdout",
     "output_type": "stream",
     "text": [
      "Loci filtering\n"
     ]
    },
    {
     "data": {
      "text/html": [
       "224"
      ],
      "text/latex": [
       "224"
      ],
      "text/markdown": [
       "224"
      ],
      "text/plain": [
       "[1] 224"
      ]
     },
     "metadata": {},
     "output_type": "display_data"
    },
    {
     "data": {
      "text/html": [
       "<table class=\"dataframe\">\n",
       "<caption>A tibble: 2 × 3</caption>\n",
       "<thead>\n",
       "\t<tr><th scope=col>label</th><th scope=col>burden</th><th scope=col>burden_fraction</th></tr>\n",
       "\t<tr><th scope=col>&lt;chr&gt;</th><th scope=col>&lt;int&gt;</th><th scope=col>&lt;dbl&gt;</th></tr>\n",
       "</thead>\n",
       "<tbody>\n",
       "\t<tr><td>ctrl</td><td> 61</td><td>0.005236951</td></tr>\n",
       "\t<tr><td>SCZ </td><td>120</td><td>0.009350164</td></tr>\n",
       "</tbody>\n",
       "</table>\n"
      ],
      "text/latex": [
       "A tibble: 2 × 3\n",
       "\\begin{tabular}{lll}\n",
       " label & burden & burden\\_fraction\\\\\n",
       " <chr> & <int> & <dbl>\\\\\n",
       "\\hline\n",
       "\t ctrl &  61 & 0.005236951\\\\\n",
       "\t SCZ  & 120 & 0.009350164\\\\\n",
       "\\end{tabular}\n"
      ],
      "text/markdown": [
       "\n",
       "A tibble: 2 × 3\n",
       "\n",
       "| label &lt;chr&gt; | burden &lt;int&gt; | burden_fraction &lt;dbl&gt; |\n",
       "|---|---|---|\n",
       "| ctrl |  61 | 0.005236951 |\n",
       "| SCZ  | 120 | 0.009350164 |\n",
       "\n"
      ],
      "text/plain": [
       "  label burden burden_fraction\n",
       "1 ctrl   61    0.005236951    \n",
       "2 SCZ   120    0.009350164    "
      ]
     },
     "metadata": {},
     "output_type": "display_data"
    },
    {
     "data": {
      "text/plain": [
       "\n",
       "\tFisher's Exact Test for Count Data\n",
       "\n",
       "data:  matrix(c(df_counts_total$burden[2], n_dx - df_counts_total$burden[2], df_counts_total$burden[1], n_ctrl - df_counts_total$burden[1]), ncol = 2, byrow = TRUE)\n",
       "p-value = 0.0001744\n",
       "alternative hypothesis: true odds ratio is not equal to 1\n",
       "95 percent confidence interval:\n",
       " 1.305165 2.484427\n",
       "sample estimates:\n",
       "odds ratio \n",
       "  1.792786 \n"
      ]
     },
     "metadata": {},
     "output_type": "display_data"
    },
    {
     "name": "stdout",
     "output_type": "stream",
     "text": [
      "Sample filtering\n"
     ]
    },
    {
     "data": {
      "text/html": [
       "198"
      ],
      "text/latex": [
       "198"
      ],
      "text/markdown": [
       "198"
      ],
      "text/plain": [
       "[1] 198"
      ]
     },
     "metadata": {},
     "output_type": "display_data"
    },
    {
     "data": {
      "text/html": [
       "<table class=\"dataframe\">\n",
       "<caption>A tibble: 2 × 3</caption>\n",
       "<thead>\n",
       "\t<tr><th scope=col>label</th><th scope=col>burden</th><th scope=col>burden_fraction</th></tr>\n",
       "\t<tr><th scope=col>&lt;chr&gt;</th><th scope=col>&lt;int&gt;</th><th scope=col>&lt;dbl&gt;</th></tr>\n",
       "</thead>\n",
       "<tbody>\n",
       "\t<tr><td>ctrl</td><td> 60</td><td>0.005151099</td></tr>\n",
       "\t<tr><td>SCZ </td><td>118</td><td>0.009194328</td></tr>\n",
       "</tbody>\n",
       "</table>\n"
      ],
      "text/latex": [
       "A tibble: 2 × 3\n",
       "\\begin{tabular}{lll}\n",
       " label & burden & burden\\_fraction\\\\\n",
       " <chr> & <int> & <dbl>\\\\\n",
       "\\hline\n",
       "\t ctrl &  60 & 0.005151099\\\\\n",
       "\t SCZ  & 118 & 0.009194328\\\\\n",
       "\\end{tabular}\n"
      ],
      "text/markdown": [
       "\n",
       "A tibble: 2 × 3\n",
       "\n",
       "| label &lt;chr&gt; | burden &lt;int&gt; | burden_fraction &lt;dbl&gt; |\n",
       "|---|---|---|\n",
       "| ctrl |  60 | 0.005151099 |\n",
       "| SCZ  | 118 | 0.009194328 |\n",
       "\n"
      ],
      "text/plain": [
       "  label burden burden_fraction\n",
       "1 ctrl   60    0.005151099    \n",
       "2 SCZ   118    0.009194328    "
      ]
     },
     "metadata": {},
     "output_type": "display_data"
    },
    {
     "data": {
      "text/plain": [
       "\n",
       "\tFisher's Exact Test for Count Data\n",
       "\n",
       "data:  matrix(c(df_counts_total$burden[2], n_dx - df_counts_total$burden[2], df_counts_total$burden[1], n_ctrl - df_counts_total$burden[1]), ncol = 2, byrow = TRUE)\n",
       "p-value = 0.0002069\n",
       "alternative hypothesis: true odds ratio is not equal to 1\n",
       "95 percent confidence interval:\n",
       " 1.301195 2.490666\n",
       "sample estimates:\n",
       "odds ratio \n",
       "  1.792161 \n"
      ]
     },
     "metadata": {},
     "output_type": "display_data"
    }
   ],
   "source": [
    "nhets=20\n",
    "overlap_control = 0.50\n",
    "overlap_1kg = 0.50\n",
    "overlap_pgc = 0.50\n",
    "baf_cutoff = 0.10\n",
    "\n",
    "\n",
    "df_mosaic0 <- df_mcnv3 %>% mutate(CHROM = trimws(CHROM)) %>%\n",
    "  filter(CHROM != \"X\") %>%\n",
    "  mutate(batch = str_replace(string=.$batch,pattern=\"_1|_3\",replacement = \"\")) %>% \n",
    "  mutate(batch = str_replace(string=.$batch,pattern=\"_eur-qc\",replacement = \"\")) %>%\n",
    "  filter(OVRLP_CONTROL < overlap_control) %>% \n",
    "  filter(!(OVRLP_PGC > overlap_pgc & RETYPE == \"DUP\")) %>%\n",
    "  filter(!(RETYPE == \"DUP\" & BDEV > baf_cutoff)) %>% \n",
    "  filter(label != \"non-SCZ\")  %>% mutate(low_qual = (LOD_BAF_PHASE < 10)) %>% filter(!low_qual) %>% filter(RETYPE!=\"UKN\")\n",
    "# %>% filter(Posterior > 0.95)\n",
    "\n",
    "compute_CF <- function(BDEV, TYPE){\n",
    "  ## Function to impute CF\n",
    "  if (TYPE == \"DUP\"){\n",
    "    CF = 2*BDEV/(0.5 - BDEV)\n",
    "  } else if (TYPE== \"DEL\"){\n",
    "    CF = 2*BDEV/(0.5 + BDEV)\n",
    "  } else if (TYPE == \"CNN-LOH\"){\n",
    "    CF = 2*BDEV\n",
    "  } else{\n",
    "    return(\"Type needs to be DUP, DEL, or CN-LOH\")\n",
    "  }\n",
    "  return(CF)\n",
    "}\n",
    "\n",
    "for (i in 1:nrow(df_mosaic0)){\n",
    "  if(is.na(df_mosaic0$CF[i])){\n",
    "    df_mosaic0$CF[i] = compute_CF(df_mosaic0$BDEV[i], df_mosaic0$RETYPE[i])\n",
    "  }\n",
    "}\n",
    "\n",
    "## FIltering out residual germline events\n",
    "df_mosaic0 <- df_mosaic0 %>% filter(!(CHROM == \"7\" & BEG_GRCh37 == 0 & END_GRCh37 == 68920) &  \n",
    "                        !(CHROM == \"20\" & BEG_GRCh37 == 59569516 & END_GRCh37 == 59589272))\n",
    "\n",
    "df_mosaic0 = df_mosaic0 %>% filter(!(RETYPE==\"DEL\" & LDEV < -0.5 & arrayName == \"Affy6\"))\n",
    "df_mosaic0 = df_mosaic0 %>% filter(!(batch %in% c(\"GAIN\",\"Gejman.MGS\",\"scz_lacw_lemu_eur_qc\"))) ## these batches were come cell lines. \n",
    "\n",
    "n_dx = 12834\n",
    "n_ctrl = 11648\n",
    "\n",
    "cat(\"No filtering\")\n",
    "nrow(df_mosaic0)\n",
    "df_counts_total <- df_mosaic0  %>% group_by(label) %>% distinct(SAMPLE,.keep_all = TRUE) %>% \n",
    "                        summarise(burden=n()) %>% ungroup() %>% mutate(burden_fraction = burden/c(n_ctrl,n_dx))\n",
    "head(df_counts_total)\n",
    "\n",
    "fisher.test(matrix(c(df_counts_total$burden[2],n_dx-df_counts_total$burden[2],\n",
    "                     df_counts_total$burden[1],n_ctrl-df_counts_total$burden[1]), ncol=2, byrow = TRUE),\n",
    "            alternative = \"two.sided\")\n",
    "\n",
    "\n",
    "df_mosaic = df_mosaic0 %>% filter( !(CHROM == \"6\" & BEG_GRCh37 > 1.9e7 & END_GRCh37 < 5e7) &\n",
    "                                     !(CHROM == \"14\" & BEG_GRCh37 >105e6 & END_GRCh37 <108e6) &\n",
    "                                     !(CHROM == \"22\" & BEG_GRCh37 > 2.2e7 & END_GRCh37 < 2.4e7) ) %>% filter(FailedQC == 0)\n",
    "\n",
    "\n",
    "cat(\"MHC filtering\\n\")\n",
    "nrow(df_mosaic)\n",
    "df_counts_total <- df_mosaic  %>% group_by(label) %>% distinct(SAMPLE,.keep_all = TRUE) %>% \n",
    "                        summarise(burden=n()) %>% ungroup() %>% mutate(burden_fraction = burden/c(n_ctrl,n_dx))\n",
    "head(df_counts_total)\n",
    "\n",
    "fisher.test(matrix(c(df_counts_total$burden[2],n_dx-df_counts_total$burden[2],\n",
    "                     df_counts_total$burden[1],n_ctrl-df_counts_total$burden[1]), ncol=2, byrow = TRUE),\n",
    "            alternative = \"two.sided\")\n",
    "\n",
    "df_mosaic_loh = df_mosaic %>% filter(RETYPE!=\"CNN-LOH\")\n",
    "cat(\"LOH filtering\\n\")\n",
    "nrow(df_mosaic_loh)\n",
    "df_counts_total <- df_mosaic_loh  %>% group_by(label) %>% distinct(SAMPLE,.keep_all = TRUE) %>% \n",
    "                        summarise(burden=n()) %>% ungroup() %>% mutate(burden_fraction = burden/c(n_ctrl,n_dx))\n",
    "head(df_counts_total)\n",
    "\n",
    "fisher.test(matrix(c(df_counts_total$burden[2],n_dx-df_counts_total$burden[2],\n",
    "                     df_counts_total$burden[1],n_ctrl-df_counts_total$burden[1]), ncol=2, byrow = TRUE),\n",
    "            alternative = \"two.sided\")\n",
    "\n",
    "cat(\"Loci filtering\\n\")\n",
    "df_mosaic_loci = df_mosaic_loh %>% filter(CF < 1) %>% filter(!(grepl(\"20q11\",CYTOBAND) & RETYPE ==\"DEL\")) %>%\n",
    "  filter(!(grepl(\"DNMT3A|DNMT3A,|,DNMT3A\",GENES) & RETYPE==\"DEL\")) %>%\n",
    "  filter(!(grepl(\",TET2|,TET2\",GENES) & RETYPE == \"DEL\")) %>% \n",
    "  filter(!(grepl(\"^13q14\", CYTOBAND) & RETYPE == \"DEL\")) %>% \n",
    "  filter(!(grepl(\"17p\", CYTOBAND) & RETYPE ==\"DEL\")) %>%\n",
    "  filter(!(grepl(\"^5q14\", CYTOBAND) & RETYPE ==\"DEL\")) %>%\n",
    "  filter(!(grepl(\",ATM|ATM,\", GENES) & RETYPE ==\"DEL\")) %>%\n",
    "  filter(!(grepl(\"15q\", CYTOBAND) & RETYPE == \"DUP\")) %>%\n",
    "  filter(RETYPE != \"CNN-LOH\" ) %>% filter(!(grepl(\"7q34\", CYTOBAND))) %>% filter(!(grepl(\"14q11.2\", CYTOBAND))) %>%\n",
    "  filter(!(CHROM== \"12\" & P_ARM == \"T\" & Q_ARM == \"T\"))\n",
    "\n",
    "nrow(df_mosaic_loci)\n",
    "df_counts_total <- df_mosaic_loci  %>% group_by(label) %>% distinct(SAMPLE,.keep_all = TRUE) %>% \n",
    "                        summarise(burden=n()) %>% ungroup() %>% mutate(burden_fraction = burden/c(n_ctrl,n_dx))\n",
    "head(df_counts_total)\n",
    "\n",
    "fisher.test(matrix(c(df_counts_total$burden[2],n_dx-df_counts_total$burden[2],\n",
    "                     df_counts_total$burden[1],n_ctrl-df_counts_total$burden[1]), ncol=2, byrow = TRUE),\n",
    "            alternative = \"two.sided\")\n",
    "\n",
    "\n",
    "cat(\"Sample filtering\\n\")\n",
    "many_calls = df_mosaic_loci %>% group_by(SAMPLE) %>% summarise(n=n())  %>% filter(n > 5)\n",
    "df_mosaic_final <- df_mosaic_loci %>%  filter(!(SAMPLE %in% many_calls$SAMPLE)) \n",
    "nrow(df_mosaic_final)\n",
    "\n",
    "df_counts_total <- df_mosaic_final  %>% group_by(label) %>% distinct(SAMPLE,.keep_all = TRUE) %>% \n",
    "                        summarise(burden=n()) %>% ungroup() %>% mutate(burden_fraction = burden/c(n_ctrl,n_dx))\n",
    "head(df_counts_total)\n",
    "\n",
    "fisher.test(matrix(c(df_counts_total$burden[2],n_dx-df_counts_total$burden[2],\n",
    "                     df_counts_total$burden[1],n_ctrl-df_counts_total$burden[1]), ncol=2, byrow = TRUE),\n",
    "            alternative = \"two.sided\")\n"
   ]
  },
  {
   "cell_type": "code",
   "execution_count": 3,
   "id": "a4fb5f60",
   "metadata": {},
   "outputs": [
    {
     "data": {
      "text/html": [
       "1143"
      ],
      "text/latex": [
       "1143"
      ],
      "text/markdown": [
       "1143"
      ],
      "text/plain": [
       "[1] 1143"
      ]
     },
     "metadata": {},
     "output_type": "display_data"
    }
   ],
   "source": [
    "1341 - 198"
   ]
  },
  {
   "cell_type": "code",
   "execution_count": 4,
   "id": "da1c5f81",
   "metadata": {},
   "outputs": [
    {
     "name": "stderr",
     "output_type": "stream",
     "text": [
      "\u001b[1mRows: \u001b[22m\u001b[34m22\u001b[39m \u001b[1mColumns: \u001b[22m\u001b[34m6\u001b[39m\n",
      "\u001b[36m──\u001b[39m \u001b[1mColumn specification\u001b[22m \u001b[36m────────────────────────────────────────────────────────────────────────────────────────────────\u001b[39m\n",
      "\u001b[1mDelimiter:\u001b[22m \"\\t\"\n",
      "\u001b[31mchr\u001b[39m (2): Idf, Type\n",
      "\u001b[32mdbl\u001b[39m (4): Chrom, Start, End, Length\n",
      "\n",
      "\u001b[36mℹ\u001b[39m Use `spec()` to retrieve the full column specification for this data.\n",
      "\u001b[36mℹ\u001b[39m Specify the column types or set `show_col_types = FALSE` to quiet this message.\n"
     ]
    },
    {
     "data": {
      "text/plain": [
       "Chain of length 25\n",
       "names(25): chr22 chr21 chr19 chr20 chrY chr18 ... chr6 chr5 chr4 chr3 chr2 chr1"
      ]
     },
     "metadata": {},
     "output_type": "display_data"
    },
    {
     "name": "stderr",
     "output_type": "stream",
     "text": [
      "The following packages have been unloaded:\n",
      "\bVariantAnnotation, plyranges, rtracklayer, Biostrings, liftOver\n",
      "\n",
      "\n"
     ]
    },
    {
     "data": {
      "text/html": [
       "238"
      ],
      "text/latex": [
       "238"
      ],
      "text/markdown": [
       "238"
      ],
      "text/plain": [
       "[1] 238"
      ]
     },
     "metadata": {},
     "output_type": "display_data"
    },
    {
     "data": {
      "text/html": [
       "<table class=\"dataframe\">\n",
       "<caption>A tibble: 2 × 3</caption>\n",
       "<thead>\n",
       "\t<tr><th scope=col>label</th><th scope=col>burden</th><th scope=col>burden_fraction</th></tr>\n",
       "\t<tr><th scope=col>&lt;chr&gt;</th><th scope=col>&lt;int&gt;</th><th scope=col>&lt;dbl&gt;</th></tr>\n",
       "</thead>\n",
       "<tbody>\n",
       "\t<tr><td>ctrl</td><td> 88</td><td>0.007554945</td></tr>\n",
       "\t<tr><td>SCZ </td><td>105</td><td>0.008181393</td></tr>\n",
       "</tbody>\n",
       "</table>\n"
      ],
      "text/latex": [
       "A tibble: 2 × 3\n",
       "\\begin{tabular}{lll}\n",
       " label & burden & burden\\_fraction\\\\\n",
       " <chr> & <int> & <dbl>\\\\\n",
       "\\hline\n",
       "\t ctrl &  88 & 0.007554945\\\\\n",
       "\t SCZ  & 105 & 0.008181393\\\\\n",
       "\\end{tabular}\n"
      ],
      "text/markdown": [
       "\n",
       "A tibble: 2 × 3\n",
       "\n",
       "| label &lt;chr&gt; | burden &lt;int&gt; | burden_fraction &lt;dbl&gt; |\n",
       "|---|---|---|\n",
       "| ctrl |  88 | 0.007554945 |\n",
       "| SCZ  | 105 | 0.008181393 |\n",
       "\n"
      ],
      "text/plain": [
       "  label burden burden_fraction\n",
       "1 ctrl   88    0.007554945    \n",
       "2 SCZ   105    0.008181393    "
      ]
     },
     "metadata": {},
     "output_type": "display_data"
    },
    {
     "data": {
      "text/plain": [
       "\n",
       "\tFisher's Exact Test for Count Data\n",
       "\n",
       "data:  matrix(c(df_counts_total$burden[2], n_dx - df_counts_total$burden[2], df_counts_total$burden[1], n_ctrl - df_counts_total$burden[1]), ncol = 2, byrow = TRUE)\n",
       "p-value = 0.6128\n",
       "alternative hypothesis: true odds ratio is not equal to 1\n",
       "95 percent confidence interval:\n",
       " 0.8075307 1.4569512\n",
       "sample estimates:\n",
       "odds ratio \n",
       "  1.083635 \n"
      ]
     },
     "metadata": {},
     "output_type": "display_data"
    }
   ],
   "source": [
    "# df_tmp = df_mosaic_final %>% dplyr::select(-c(\"low_qual\"))\n",
    "# df_chip = anti_join(df_mosaic0, df_tmp)\n",
    "\n",
    "pacman::p_load(\"VariantAnnotation\",\"plyranges\",\"rtracklayer\",\n",
    "              \"Biostrings\",\"liftOver\")\n",
    "\n",
    "cannonical_chip = read_tsv(\"../data/chromosome_positions_common_CHIP_CNAs_grch38_with_type_CNV.txt\")\n",
    "colnames(cannonical_chip) =  c(\"Idf\",\"seqnames\",\"start\",\"end\",\"LENGTH\",\"TYPE\")\n",
    "## Convert from hg38 to hg19\n",
    "\n",
    "cannonical_chip = cannonical_chip %>% mutate(cyto = Idf, seqnames = paste0(\"chr\",seqnames)) %>%\n",
    "    dplyr::select(-c(Idf)) %>% as_granges() %>%  mutate(TYPE = ifelse(TYPE == \"Amp\",\"DUP\",\"DEL\"))\n",
    "\n",
    "path = system.file(package=\"liftOver\", \"extdata\", \"hg38ToHg19.over.chain\")\n",
    "ch = import.chain(path)\n",
    "ch\n",
    "\n",
    "chip_hg19 = liftOver(cannonical_chip, ch)\n",
    "chip_hg19 = unlist(chip_hg19)\n",
    "genome(chip_hg19) = \"hg19\"\n",
    "\n",
    "df_chip_ = df_mosaic0 %>% filter(CF < 1) %>% dplyr::select(c(\"CHROM\",\"BEG_GRCh37\",\"END_GRCh37\",\"LENGTH\",\"CF\",\"RETYPE\",\n",
    "                                                           \"SAMPLE\",\"batch\",\"arrayName\", \"label\")) \n",
    "colnames(df_chip_) = c(\"seqnames\",\"start\",\"end\",\"LENGTH\",\"CF\",\"TYPE\", \"SAMPLE\",\"batch\",\"arrayName\",\"label\")\n",
    "df_chip_ = df_chip_ %>% as_granges() \n",
    "seqlevelsStyle(df_chip_) = \"UCSC\"\n",
    "genome(df_chip_) = \"hg19\"\n",
    "df_chip_dup = df_chip_ %>% filter(TYPE == \"DUP\") %>% filter_by_overlaps(chip_hg19 %>% filter(TYPE == \"DUP\")) %>% as.data.frame()\n",
    "df_chip_del = df_chip_ %>% filter(TYPE == \"DEL\") %>% filter_by_overlaps(chip_hg19 %>% filter(TYPE == \"DEL\")) %>% as.data.frame()\n",
    "df_chip = rbind(df_chip_dup, df_chip_del)\n",
    "\n",
    "\n",
    "\n",
    "pacman::p_unload(\"VariantAnnotation\",\"plyranges\",\"rtracklayer\",\n",
    "              \"Biostrings\",\"liftOver\")\n",
    "\n",
    "\n",
    "## number of events filtered as chip\n",
    "nrow(df_chip)\n",
    "\n",
    "df_counts_total <- df_chip  %>% group_by(label) %>% distinct(SAMPLE,.keep_all = TRUE) %>% \n",
    "                        summarise(burden=n()) %>% ungroup() %>% mutate(burden_fraction = burden/c(n_ctrl,n_dx))\n",
    "head(df_counts_total)\n",
    "\n",
    "fisher.test(matrix(c(df_counts_total$burden[2],n_dx-df_counts_total$burden[2],\n",
    "                     df_counts_total$burden[1],n_ctrl-df_counts_total$burden[1]), ncol=2, byrow = TRUE),\n",
    "            alternative = \"two.sided\")"
   ]
  },
  {
   "cell_type": "code",
   "execution_count": 6,
   "id": "f88be42f",
   "metadata": {},
   "outputs": [
    {
     "data": {
      "image/png": "[encoded data removed]",
      "text/plain": [
       "plot without title"
      ]
     },
     "metadata": {
      "image/png": {
       "height": 240,
       "width": 240
      }
     },
     "output_type": "display_data"
    }
   ],
   "source": [
    "df_plot = data.frame(filter_stage = c(\"QC only\",\"(-)MHC,IGL,KIR\",\"(-)CN-LOH\",\"(-)CHIP Loci\",\"(-)Samples > 5 sCNV\",\n",
    "                                     \"(+)CHIP variants only\"),\n",
    "                    OR= c(0.863,0.913, 1.5286,1.7928,1.792161,1.084), low_ci = c(0.764,0.803,1.1831,1.305,1.3011,0.81), \n",
    "                     high_ci=c(0.98,1.0386,1.9836,2.484,2.4907,1.46))\n",
    "\n",
    "options(repr.plot.width=4, repr.plot.height=4)\n",
    "p1= df_plot %>% mutate(filter_stage = factor(filter_stage,\n",
    "                                         levels=c(\"QC only\",\"(-)MHC,IGL,KIR\",\"(-)CN-LOH\",\"(-)CHIP Loci\",\"(-)Samples > 5 sCNV\",\n",
    "                                                 \"(+)CHIP variants only\"))) %>%\n",
    "    ggplot(aes(x=filter_stage,y=OR)) + geom_pointrange(aes(ymin=low_ci,ymax=high_ci), size=1)+\n",
    "    theme_classic(16) + geom_hline(yintercept = 1,linetype=2) + theme(axis.text.x = element_text(angle=45, vjust=1, hjust=1)) +\n",
    "    labs(x=\"CHIP filtering stage\\n and CHIP variants\",y= \"Odds Ratio\")\n",
    "\n",
    "\n",
    "p1\n",
    "\n",
    "ggsave(\"../OR_chip_filtering.pdf\",p1,device=\"pdf\",width=4,height=4)\n"
   ]
  },
  {
   "cell_type": "code",
   "execution_count": 7,
   "id": "827b3faf",
   "metadata": {},
   "outputs": [
    {
     "data": {
      "text/html": [
       "<table class=\"dataframe\">\n",
       "<caption>A data.frame: 6 × 4</caption>\n",
       "<thead>\n",
       "\t<tr><th scope=col>filter_stage</th><th scope=col>OR</th><th scope=col>low_ci</th><th scope=col>high_ci</th></tr>\n",
       "\t<tr><th scope=col>&lt;chr&gt;</th><th scope=col>&lt;dbl&gt;</th><th scope=col>&lt;dbl&gt;</th><th scope=col>&lt;dbl&gt;</th></tr>\n",
       "</thead>\n",
       "<tbody>\n",
       "\t<tr><td>QC only              </td><td>0.863000</td><td>0.7640</td><td>0.9800</td></tr>\n",
       "\t<tr><td>(-)MHC,IGL,KIR       </td><td>0.913000</td><td>0.8030</td><td>1.0386</td></tr>\n",
       "\t<tr><td>(-)CN-LOH            </td><td>1.528600</td><td>1.1831</td><td>1.9836</td></tr>\n",
       "\t<tr><td>(-)CHIP Loci         </td><td>1.792800</td><td>1.3050</td><td>2.4840</td></tr>\n",
       "\t<tr><td><span style=white-space:pre-wrap>(-)Samples &gt; 5 sCNV  </span></td><td>1.792161</td><td>1.3011</td><td>2.4907</td></tr>\n",
       "\t<tr><td>(+)CHIP variants only</td><td>1.084000</td><td>0.8100</td><td>1.4600</td></tr>\n",
       "</tbody>\n",
       "</table>\n"
      ],
      "text/latex": [
       "A data.frame: 6 × 4\n",
       "\\begin{tabular}{llll}\n",
       " filter\\_stage & OR & low\\_ci & high\\_ci\\\\\n",
       " <chr> & <dbl> & <dbl> & <dbl>\\\\\n",
       "\\hline\n",
       "\t QC only               & 0.863000 & 0.7640 & 0.9800\\\\\n",
       "\t (-)MHC,IGL,KIR        & 0.913000 & 0.8030 & 1.0386\\\\\n",
       "\t (-)CN-LOH             & 1.528600 & 1.1831 & 1.9836\\\\\n",
       "\t (-)CHIP Loci          & 1.792800 & 1.3050 & 2.4840\\\\\n",
       "\t (-)Samples > 5 sCNV   & 1.792161 & 1.3011 & 2.4907\\\\\n",
       "\t (+)CHIP variants only & 1.084000 & 0.8100 & 1.4600\\\\\n",
       "\\end{tabular}\n"
      ],
      "text/markdown": [
       "\n",
       "A data.frame: 6 × 4\n",
       "\n",
       "| filter_stage &lt;chr&gt; | OR &lt;dbl&gt; | low_ci &lt;dbl&gt; | high_ci &lt;dbl&gt; |\n",
       "|---|---|---|---|\n",
       "| QC only               | 0.863000 | 0.7640 | 0.9800 |\n",
       "| (-)MHC,IGL,KIR        | 0.913000 | 0.8030 | 1.0386 |\n",
       "| (-)CN-LOH             | 1.528600 | 1.1831 | 1.9836 |\n",
       "| (-)CHIP Loci          | 1.792800 | 1.3050 | 2.4840 |\n",
       "| (-)Samples &gt; 5 sCNV   | 1.792161 | 1.3011 | 2.4907 |\n",
       "| (+)CHIP variants only | 1.084000 | 0.8100 | 1.4600 |\n",
       "\n"
      ],
      "text/plain": [
       "  filter_stage          OR       low_ci high_ci\n",
       "1 QC only               0.863000 0.7640 0.9800 \n",
       "2 (-)MHC,IGL,KIR        0.913000 0.8030 1.0386 \n",
       "3 (-)CN-LOH             1.528600 1.1831 1.9836 \n",
       "4 (-)CHIP Loci          1.792800 1.3050 2.4840 \n",
       "5 (-)Samples > 5 sCNV   1.792161 1.3011 2.4907 \n",
       "6 (+)CHIP variants only 1.084000 0.8100 1.4600 "
      ]
     },
     "metadata": {},
     "output_type": "display_data"
    }
   ],
   "source": [
    "df_plot"
   ]
  }
 ],
 "metadata": {
  "kernelspec": {
   "display_name": "R",
   "language": "R",
   "name": "ir"
  },
  "language_info": {
   "codemirror_mode": "r",
   "file_extension": ".r",
   "mimetype": "text/x-r-source",
   "name": "R",
   "pygments_lexer": "r",
   "version": "4.2.2"
  }
 },
 "nbformat": 4,
 "nbformat_minor": 5
}
