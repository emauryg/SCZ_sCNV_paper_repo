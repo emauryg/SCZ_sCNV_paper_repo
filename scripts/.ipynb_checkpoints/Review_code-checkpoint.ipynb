{
 "cells": [
  {
   "cell_type": "code",
   "execution_count": 22,
   "id": "61beeb50",
   "metadata": {},
   "outputs": [
    {
     "name": "stderr",
     "output_type": "stream",
     "text": [
      "\n",
      "\u001b[36m──\u001b[39m \u001b[1m\u001b[1mColumn specification\u001b[1m\u001b[22m \u001b[36m────────────────────────────────────────────────────────────────────────────────────────────────\u001b[39m\n",
      "cols(\n",
      "  .default = col_double(),\n",
      "  SAMPLE = \u001b[31mcol_character()\u001b[39m,\n",
      "  COMPUTED_GENDER = \u001b[31mcol_character()\u001b[39m,\n",
      "  CHROM = \u001b[31mcol_character()\u001b[39m,\n",
      "  P_ARM = \u001b[31mcol_character()\u001b[39m,\n",
      "  Q_ARM = \u001b[31mcol_character()\u001b[39m,\n",
      "  TYPE = \u001b[31mcol_character()\u001b[39m,\n",
      "  batch = \u001b[31mcol_character()\u001b[39m,\n",
      "  arrayName = \u001b[31mcol_character()\u001b[39m,\n",
      "  identifier = \u001b[31mcol_character()\u001b[39m,\n",
      "  RETYPE = \u001b[31mcol_character()\u001b[39m,\n",
      "  label = \u001b[31mcol_character()\u001b[39m,\n",
      "  CALL_RATE = \u001b[33mcol_logical()\u001b[39m,\n",
      "  CYTOBAND = \u001b[31mcol_character()\u001b[39m,\n",
      "  GENES = \u001b[31mcol_character()\u001b[39m\n",
      ")\n",
      "\u001b[36mℹ\u001b[39m Use \u001b[30m\u001b[47m\u001b[30m\u001b[47m`spec()`\u001b[47m\u001b[30m\u001b[49m\u001b[39m for the full column specifications.\n",
      "\n",
      "\n",
      "Warning message:\n",
      "“6071 parsing failures.\n",
      "  row       col           expected actual                                  file\n",
      "21982 CALL_RATE 1/0/T/F/TRUE/FALSE 0.9994 '../data/Illumina_nofilter_mCNVs.csv'\n",
      "21983 CALL_RATE 1/0/T/F/TRUE/FALSE 0.9995 '../data/Illumina_nofilter_mCNVs.csv'\n",
      "21984 CALL_RATE 1/0/T/F/TRUE/FALSE 0.9999 '../data/Illumina_nofilter_mCNVs.csv'\n",
      "21985 CALL_RATE 1/0/T/F/TRUE/FALSE 0.9996 '../data/Illumina_nofilter_mCNVs.csv'\n",
      "21986 CALL_RATE 1/0/T/F/TRUE/FALSE 0.9999 '../data/Illumina_nofilter_mCNVs.csv'\n",
      "..... ......... .................. ...... .....................................\n",
      "See problems(...) for more details.\n",
      "”\n",
      "\n",
      "\u001b[36m──\u001b[39m \u001b[1m\u001b[1mColumn specification\u001b[1m\u001b[22m \u001b[36m────────────────────────────────────────────────────────────────────────────────────────────────\u001b[39m\n",
      "cols(\n",
      "  .default = col_double(),\n",
      "  SAMPLE = \u001b[31mcol_character()\u001b[39m,\n",
      "  COMPUTED_GENDER = \u001b[31mcol_character()\u001b[39m,\n",
      "  CHROM = \u001b[31mcol_character()\u001b[39m,\n",
      "  P_ARM = \u001b[31mcol_character()\u001b[39m,\n",
      "  Q_ARM = \u001b[31mcol_character()\u001b[39m,\n",
      "  TYPE = \u001b[31mcol_character()\u001b[39m,\n",
      "  batch = \u001b[31mcol_character()\u001b[39m,\n",
      "  arrayName = \u001b[31mcol_character()\u001b[39m,\n",
      "  identifier = \u001b[31mcol_character()\u001b[39m,\n",
      "  RETYPE = \u001b[31mcol_character()\u001b[39m,\n",
      "  label = \u001b[31mcol_character()\u001b[39m,\n",
      "  CYTOBAND = \u001b[31mcol_character()\u001b[39m,\n",
      "  GENES = \u001b[31mcol_character()\u001b[39m\n",
      ")\n",
      "\u001b[36mℹ\u001b[39m Use \u001b[30m\u001b[47m\u001b[30m\u001b[47m`spec()`\u001b[47m\u001b[30m\u001b[49m\u001b[39m for the full column specifications.\n",
      "\n",
      "\n"
     ]
    }
   ],
   "source": [
    "## Download data\n",
    "\n",
    "suppressMessages(library(tidyverse))\n",
    "suppressMessages(library(lme4))\n",
    "suppressMessages(library(lmerTest))\n",
    "suppressMessages(library(ggridges))\n",
    "\n",
    "\n",
    "## Download Illumina data\n",
    "df_mcnv3_illum <- read_csv(\"../data/Illumina_nofilter_mCNVs.csv\")\n",
    "if(colnames(df_mcnv3_illum)[2] == \"COMPUTED_GENDER\"){\n",
    "  colnames(df_mcnv3_illum)[2] = \"SEX\"\n",
    "}## Download Affy data\n",
    "\n",
    "df_mcnv3_affy <- read_csv(\"..//data/Affy6_nofilter_mCNVs.csv\")\n",
    "\n",
    "if(colnames(df_mcnv3_affy)[2] == \"COMPUTED_GENDER\"){\n",
    "  colnames(df_mcnv3_affy)[2] = \"SEX\"\n",
    "}\n",
    "\n",
    "\n",
    "## Merge\n",
    "df_mcnv3 = rbind(df_mcnv3_illum %>% dplyr::select(-c(CALL_RATE)), df_mcnv3_affy)\n",
    "\n",
    "\n"
   ]
  },
  {
   "cell_type": "code",
   "execution_count": 35,
   "id": "0866ef24",
   "metadata": {},
   "outputs": [
    {
     "name": "stdout",
     "output_type": "stream",
     "text": [
      "No filtering"
     ]
    },
    {
     "data": {
      "text/html": [
       "1341"
      ],
      "text/latex": [
       "1341"
      ],
      "text/markdown": [
       "1341"
      ],
      "text/plain": [
       "[1] 1341"
      ]
     },
     "metadata": {},
     "output_type": "display_data"
    },
    {
     "data": {
      "text/html": [
       "<table class=\"dataframe\">\n",
       "<caption>A tibble: 2 × 3</caption>\n",
       "<thead>\n",
       "\t<tr><th scope=col>label</th><th scope=col>burden</th><th scope=col>burden_fraction</th></tr>\n",
       "\t<tr><th scope=col>&lt;chr&gt;</th><th scope=col>&lt;int&gt;</th><th scope=col>&lt;dbl&gt;</th></tr>\n",
       "</thead>\n",
       "<tbody>\n",
       "\t<tr><td>ctrl</td><td>567</td><td>0.04867788</td></tr>\n",
       "\t<tr><td>SCZ </td><td>543</td><td>0.04230949</td></tr>\n",
       "</tbody>\n",
       "</table>\n"
      ],
      "text/latex": [
       "A tibble: 2 × 3\n",
       "\\begin{tabular}{lll}\n",
       " label & burden & burden\\_fraction\\\\\n",
       " <chr> & <int> & <dbl>\\\\\n",
       "\\hline\n",
       "\t ctrl & 567 & 0.04867788\\\\\n",
       "\t SCZ  & 543 & 0.04230949\\\\\n",
       "\\end{tabular}\n"
      ],
      "text/markdown": [
       "\n",
       "A tibble: 2 × 3\n",
       "\n",
       "| label &lt;chr&gt; | burden &lt;int&gt; | burden_fraction &lt;dbl&gt; |\n",
       "|---|---|---|\n",
       "| ctrl | 567 | 0.04867788 |\n",
       "| SCZ  | 543 | 0.04230949 |\n",
       "\n"
      ],
      "text/plain": [
       "  label burden burden_fraction\n",
       "1 ctrl  567    0.04867788     \n",
       "2 SCZ   543    0.04230949     "
      ]
     },
     "metadata": {},
     "output_type": "display_data"
    },
    {
     "data": {
      "text/plain": [
       "\n",
       "\tFisher's Exact Test for Count Data\n",
       "\n",
       "data:  matrix(c(df_counts_total$burden[2], n_dx - df_counts_total$burden[2], df_counts_total$burden[1], n_ctrl - df_counts_total$burden[1]), ncol = 2, byrow = TRUE)\n",
       "p-value = 0.01784\n",
       "alternative hypothesis: true odds ratio is not equal to 1\n",
       "95 percent confidence interval:\n",
       " 0.7639459 0.9757263\n",
       "sample estimates:\n",
       "odds ratio \n",
       " 0.8633994 \n"
      ]
     },
     "metadata": {},
     "output_type": "display_data"
    },
    {
     "name": "stdout",
     "output_type": "stream",
     "text": [
      "MHC filtering\n"
     ]
    },
    {
     "data": {
      "text/html": [
       "1185"
      ],
      "text/latex": [
       "1185"
      ],
      "text/markdown": [
       "1185"
      ],
      "text/plain": [
       "[1] 1185"
      ]
     },
     "metadata": {},
     "output_type": "display_data"
    },
    {
     "data": {
      "text/html": [
       "<table class=\"dataframe\">\n",
       "<caption>A tibble: 2 × 3</caption>\n",
       "<thead>\n",
       "\t<tr><th scope=col>label</th><th scope=col>burden</th><th scope=col>burden_fraction</th></tr>\n",
       "\t<tr><th scope=col>&lt;chr&gt;</th><th scope=col>&lt;int&gt;</th><th scope=col>&lt;dbl&gt;</th></tr>\n",
       "</thead>\n",
       "<tbody>\n",
       "\t<tr><td>ctrl</td><td>498</td><td>0.04275412</td></tr>\n",
       "\t<tr><td>SCZ </td><td>503</td><td>0.03919277</td></tr>\n",
       "</tbody>\n",
       "</table>\n"
      ],
      "text/latex": [
       "A tibble: 2 × 3\n",
       "\\begin{tabular}{lll}\n",
       " label & burden & burden\\_fraction\\\\\n",
       " <chr> & <int> & <dbl>\\\\\n",
       "\\hline\n",
       "\t ctrl & 498 & 0.04275412\\\\\n",
       "\t SCZ  & 503 & 0.03919277\\\\\n",
       "\\end{tabular}\n"
      ],
      "text/markdown": [
       "\n",
       "A tibble: 2 × 3\n",
       "\n",
       "| label &lt;chr&gt; | burden &lt;int&gt; | burden_fraction &lt;dbl&gt; |\n",
       "|---|---|---|\n",
       "| ctrl | 498 | 0.04275412 |\n",
       "| SCZ  | 503 | 0.03919277 |\n",
       "\n"
      ],
      "text/plain": [
       "  label burden burden_fraction\n",
       "1 ctrl  498    0.04275412     \n",
       "2 SCZ   503    0.03919277     "
      ]
     },
     "metadata": {},
     "output_type": "display_data"
    },
    {
     "data": {
      "text/plain": [
       "\n",
       "\tFisher's Exact Test for Count Data\n",
       "\n",
       "data:  matrix(c(df_counts_total$burden[2], n_dx - df_counts_total$burden[2], df_counts_total$burden[1], n_ctrl - df_counts_total$burden[1]), ncol = 2, byrow = TRUE)\n",
       "p-value = 0.1647\n",
       "alternative hypothesis: true odds ratio is not equal to 1\n",
       "95 percent confidence interval:\n",
       " 0.8031163 1.0386446\n",
       "sample estimates:\n",
       "odds ratio \n",
       " 0.9133075 \n"
      ]
     },
     "metadata": {},
     "output_type": "display_data"
    },
    {
     "name": "stdout",
     "output_type": "stream",
     "text": [
      "LOH filtering\n"
     ]
    },
    {
     "data": {
      "text/html": [
       "320"
      ],
      "text/latex": [
       "320"
      ],
      "text/markdown": [
       "320"
      ],
      "text/plain": [
       "[1] 320"
      ]
     },
     "metadata": {},
     "output_type": "display_data"
    },
    {
     "data": {
      "text/html": [
       "<table class=\"dataframe\">\n",
       "<caption>A tibble: 2 × 3</caption>\n",
       "<thead>\n",
       "\t<tr><th scope=col>label</th><th scope=col>burden</th><th scope=col>burden_fraction</th></tr>\n",
       "\t<tr><th scope=col>&lt;chr&gt;</th><th scope=col>&lt;int&gt;</th><th scope=col>&lt;dbl&gt;</th></tr>\n",
       "</thead>\n",
       "<tbody>\n",
       "\t<tr><td>ctrl</td><td> 99</td><td>0.008499313</td></tr>\n",
       "\t<tr><td>SCZ </td><td>166</td><td>0.012934393</td></tr>\n",
       "</tbody>\n",
       "</table>\n"
      ],
      "text/latex": [
       "A tibble: 2 × 3\n",
       "\\begin{tabular}{lll}\n",
       " label & burden & burden\\_fraction\\\\\n",
       " <chr> & <int> & <dbl>\\\\\n",
       "\\hline\n",
       "\t ctrl &  99 & 0.008499313\\\\\n",
       "\t SCZ  & 166 & 0.012934393\\\\\n",
       "\\end{tabular}\n"
      ],
      "text/markdown": [
       "\n",
       "A tibble: 2 × 3\n",
       "\n",
       "| label &lt;chr&gt; | burden &lt;int&gt; | burden_fraction &lt;dbl&gt; |\n",
       "|---|---|---|\n",
       "| ctrl |  99 | 0.008499313 |\n",
       "| SCZ  | 166 | 0.012934393 |\n",
       "\n"
      ],
      "text/plain": [
       "  label burden burden_fraction\n",
       "1 ctrl   99    0.008499313    \n",
       "2 SCZ   166    0.012934393    "
      ]
     },
     "metadata": {},
     "output_type": "display_data"
    },
    {
     "data": {
      "text/plain": [
       "\n",
       "\tFisher's Exact Test for Count Data\n",
       "\n",
       "data:  matrix(c(df_counts_total$burden[2], n_dx - df_counts_total$burden[2], df_counts_total$burden[1], n_ctrl - df_counts_total$burden[1]), ncol = 2, byrow = TRUE)\n",
       "p-value = 0.0008181\n",
       "alternative hypothesis: true odds ratio is not equal to 1\n",
       "95 percent confidence interval:\n",
       " 1.183100 1.983619\n",
       "sample estimates:\n",
       "odds ratio \n",
       "  1.528622 \n"
      ]
     },
     "metadata": {},
     "output_type": "display_data"
    },
    {
     "name": "stdout",
     "output_type": "stream",
     "text": [
      "Loci filtering\n"
     ]
    },
    {
     "data": {
      "text/html": [
       "224"
      ],
      "text/latex": [
       "224"
      ],
      "text/markdown": [
       "224"
      ],
      "text/plain": [
       "[1] 224"
      ]
     },
     "metadata": {},
     "output_type": "display_data"
    },
    {
     "data": {
      "text/html": [
       "<table class=\"dataframe\">\n",
       "<caption>A tibble: 2 × 3</caption>\n",
       "<thead>\n",
       "\t<tr><th scope=col>label</th><th scope=col>burden</th><th scope=col>burden_fraction</th></tr>\n",
       "\t<tr><th scope=col>&lt;chr&gt;</th><th scope=col>&lt;int&gt;</th><th scope=col>&lt;dbl&gt;</th></tr>\n",
       "</thead>\n",
       "<tbody>\n",
       "\t<tr><td>ctrl</td><td> 61</td><td>0.005236951</td></tr>\n",
       "\t<tr><td>SCZ </td><td>120</td><td>0.009350164</td></tr>\n",
       "</tbody>\n",
       "</table>\n"
      ],
      "text/latex": [
       "A tibble: 2 × 3\n",
       "\\begin{tabular}{lll}\n",
       " label & burden & burden\\_fraction\\\\\n",
       " <chr> & <int> & <dbl>\\\\\n",
       "\\hline\n",
       "\t ctrl &  61 & 0.005236951\\\\\n",
       "\t SCZ  & 120 & 0.009350164\\\\\n",
       "\\end{tabular}\n"
      ],
      "text/markdown": [
       "\n",
       "A tibble: 2 × 3\n",
       "\n",
       "| label &lt;chr&gt; | burden &lt;int&gt; | burden_fraction &lt;dbl&gt; |\n",
       "|---|---|---|\n",
       "| ctrl |  61 | 0.005236951 |\n",
       "| SCZ  | 120 | 0.009350164 |\n",
       "\n"
      ],
      "text/plain": [
       "  label burden burden_fraction\n",
       "1 ctrl   61    0.005236951    \n",
       "2 SCZ   120    0.009350164    "
      ]
     },
     "metadata": {},
     "output_type": "display_data"
    },
    {
     "data": {
      "text/plain": [
       "\n",
       "\tFisher's Exact Test for Count Data\n",
       "\n",
       "data:  matrix(c(df_counts_total$burden[2], n_dx - df_counts_total$burden[2], df_counts_total$burden[1], n_ctrl - df_counts_total$burden[1]), ncol = 2, byrow = TRUE)\n",
       "p-value = 0.0001744\n",
       "alternative hypothesis: true odds ratio is not equal to 1\n",
       "95 percent confidence interval:\n",
       " 1.305165 2.484427\n",
       "sample estimates:\n",
       "odds ratio \n",
       "  1.792786 \n"
      ]
     },
     "metadata": {},
     "output_type": "display_data"
    },
    {
     "name": "stdout",
     "output_type": "stream",
     "text": [
      "Sample filtering\n"
     ]
    },
    {
     "data": {
      "text/html": [
       "198"
      ],
      "text/latex": [
       "198"
      ],
      "text/markdown": [
       "198"
      ],
      "text/plain": [
       "[1] 198"
      ]
     },
     "metadata": {},
     "output_type": "display_data"
    },
    {
     "data": {
      "text/html": [
       "<table class=\"dataframe\">\n",
       "<caption>A tibble: 2 × 3</caption>\n",
       "<thead>\n",
       "\t<tr><th scope=col>label</th><th scope=col>burden</th><th scope=col>burden_fraction</th></tr>\n",
       "\t<tr><th scope=col>&lt;chr&gt;</th><th scope=col>&lt;int&gt;</th><th scope=col>&lt;dbl&gt;</th></tr>\n",
       "</thead>\n",
       "<tbody>\n",
       "\t<tr><td>ctrl</td><td> 60</td><td>0.005151099</td></tr>\n",
       "\t<tr><td>SCZ </td><td>118</td><td>0.009194328</td></tr>\n",
       "</tbody>\n",
       "</table>\n"
      ],
      "text/latex": [
       "A tibble: 2 × 3\n",
       "\\begin{tabular}{lll}\n",
       " label & burden & burden\\_fraction\\\\\n",
       " <chr> & <int> & <dbl>\\\\\n",
       "\\hline\n",
       "\t ctrl &  60 & 0.005151099\\\\\n",
       "\t SCZ  & 118 & 0.009194328\\\\\n",
       "\\end{tabular}\n"
      ],
      "text/markdown": [
       "\n",
       "A tibble: 2 × 3\n",
       "\n",
       "| label &lt;chr&gt; | burden &lt;int&gt; | burden_fraction &lt;dbl&gt; |\n",
       "|---|---|---|\n",
       "| ctrl |  60 | 0.005151099 |\n",
       "| SCZ  | 118 | 0.009194328 |\n",
       "\n"
      ],
      "text/plain": [
       "  label burden burden_fraction\n",
       "1 ctrl   60    0.005151099    \n",
       "2 SCZ   118    0.009194328    "
      ]
     },
     "metadata": {},
     "output_type": "display_data"
    },
    {
     "data": {
      "text/plain": [
       "\n",
       "\tFisher's Exact Test for Count Data\n",
       "\n",
       "data:  matrix(c(df_counts_total$burden[2], n_dx - df_counts_total$burden[2], df_counts_total$burden[1], n_ctrl - df_counts_total$burden[1]), ncol = 2, byrow = TRUE)\n",
       "p-value = 0.0002069\n",
       "alternative hypothesis: true odds ratio is not equal to 1\n",
       "95 percent confidence interval:\n",
       " 1.301195 2.490666\n",
       "sample estimates:\n",
       "odds ratio \n",
       "  1.792161 \n"
      ]
     },
     "metadata": {},
     "output_type": "display_data"
    }
   ],
   "source": [
    "nhets=20\n",
    "overlap_control = 0.50\n",
    "overlap_1kg = 0.50\n",
    "overlap_pgc = 0.50\n",
    "baf_cutoff = 0.10\n",
    "\n",
    "\n",
    "df_mosaic0 <- df_mcnv3 %>% mutate(CHROM = trimws(CHROM)) %>%\n",
    "  filter(CHROM != \"X\") %>%\n",
    "  mutate(batch = str_replace(string=.$batch,pattern=\"_1|_3\",replacement = \"\")) %>% \n",
    "  mutate(batch = str_replace(string=.$batch,pattern=\"_eur-qc\",replacement = \"\")) %>%\n",
    "  filter(OVRLP_CONTROL < overlap_control) %>% \n",
    "  filter(!(OVRLP_PGC > overlap_pgc & RETYPE == \"DUP\")) %>%\n",
    "  filter(!(RETYPE == \"DUP\" & BDEV > baf_cutoff)) %>% \n",
    "  filter(label != \"non-SCZ\")  %>% mutate(low_qual = (LOD_BAF_PHASE < 10)) %>% filter(!low_qual) %>% filter(RETYPE!=\"UKN\")\n",
    "# %>% filter(Posterior > 0.95)\n",
    "\n",
    "compute_CF <- function(BDEV, TYPE){\n",
    "  ## Function to impute CF\n",
    "  if (TYPE == \"DUP\"){\n",
    "    CF = 2*BDEV/(0.5 - BDEV)\n",
    "  } else if (TYPE== \"DEL\"){\n",
    "    CF = 2*BDEV/(0.5 + BDEV)\n",
    "  } else if (TYPE == \"CNN-LOH\"){\n",
    "    CF = 2*BDEV\n",
    "  } else{\n",
    "    return(\"Type needs to be DUP, DEL, or CN-LOH\")\n",
    "  }\n",
    "  return(CF)\n",
    "}\n",
    "\n",
    "for (i in 1:nrow(df_mosaic0)){\n",
    "  if(is.na(df_mosaic0$CF[i])){\n",
    "    df_mosaic0$CF[i] = compute_CF(df_mosaic0$BDEV[i], df_mosaic0$RETYPE[i])\n",
    "  }\n",
    "}\n",
    "\n",
    "## FIltering out residual germline events\n",
    "df_mosaic0 <- df_mosaic0 %>% filter(!(CHROM == \"7\" & BEG_GRCh37 == 0 & END_GRCh37 == 68920) &  \n",
    "                        !(CHROM == \"20\" & BEG_GRCh37 == 59569516 & END_GRCh37 == 59589272))\n",
    "\n",
    "df_mosaic0 = df_mosaic0 %>% filter(!(RETYPE==\"DEL\" & LDEV < -0.5 & arrayName == \"Affy6\"))\n",
    "df_mosaic0 = df_mosaic0 %>% filter(!(batch %in% c(\"GAIN\",\"Gejman.MGS\",\"scz_lacw_lemu_eur_qc\"))) ## these batches were come cell lines. \n",
    "\n",
    "n_dx = 12834\n",
    "n_ctrl = 11648\n",
    "\n",
    "cat(\"No filtering\")\n",
    "nrow(df_mosaic0)\n",
    "df_counts_total <- df_mosaic0  %>% group_by(label) %>% distinct(SAMPLE,.keep_all = TRUE) %>% \n",
    "                        summarise(burden=n()) %>% ungroup() %>% mutate(burden_fraction = burden/c(n_ctrl,n_dx))\n",
    "head(df_counts_total)\n",
    "\n",
    "fisher.test(matrix(c(df_counts_total$burden[2],n_dx-df_counts_total$burden[2],\n",
    "                     df_counts_total$burden[1],n_ctrl-df_counts_total$burden[1]), ncol=2, byrow = TRUE),\n",
    "            alternative = \"two.sided\")\n",
    "\n",
    "\n",
    "df_mosaic = df_mosaic0 %>% filter( !(CHROM == \"6\" & BEG_GRCh37 > 1.9e7 & END_GRCh37 < 5e7) &\n",
    "                                     !(CHROM == \"14\" & BEG_GRCh37 >105e6 & END_GRCh37 <108e6) &\n",
    "                                     !(CHROM == \"22\" & BEG_GRCh37 > 2.2e7 & END_GRCh37 < 2.4e7) ) %>% filter(FailedQC == 0)\n",
    "\n",
    "\n",
    "cat(\"MHC filtering\\n\")\n",
    "nrow(df_mosaic)\n",
    "df_counts_total <- df_mosaic  %>% group_by(label) %>% distinct(SAMPLE,.keep_all = TRUE) %>% \n",
    "                        summarise(burden=n()) %>% ungroup() %>% mutate(burden_fraction = burden/c(n_ctrl,n_dx))\n",
    "head(df_counts_total)\n",
    "\n",
    "fisher.test(matrix(c(df_counts_total$burden[2],n_dx-df_counts_total$burden[2],\n",
    "                     df_counts_total$burden[1],n_ctrl-df_counts_total$burden[1]), ncol=2, byrow = TRUE),\n",
    "            alternative = \"two.sided\")\n",
    "\n",
    "df_mosaic_loh = df_mosaic %>% filter(RETYPE!=\"CNN-LOH\")\n",
    "cat(\"LOH filtering\\n\")\n",
    "nrow(df_mosaic_loh)\n",
    "df_counts_total <- df_mosaic_loh  %>% group_by(label) %>% distinct(SAMPLE,.keep_all = TRUE) %>% \n",
    "                        summarise(burden=n()) %>% ungroup() %>% mutate(burden_fraction = burden/c(n_ctrl,n_dx))\n",
    "head(df_counts_total)\n",
    "\n",
    "fisher.test(matrix(c(df_counts_total$burden[2],n_dx-df_counts_total$burden[2],\n",
    "                     df_counts_total$burden[1],n_ctrl-df_counts_total$burden[1]), ncol=2, byrow = TRUE),\n",
    "            alternative = \"two.sided\")\n",
    "\n",
    "cat(\"Loci filtering\\n\")\n",
    "df_mosaic_loci = df_mosaic_loh %>% filter(CF < 1) %>% filter(!(grepl(\"20q11\",CYTOBAND) & RETYPE ==\"DEL\")) %>%\n",
    "  filter(!(grepl(\"DNMT3A|DNMT3A,|,DNMT3A\",GENES) & RETYPE==\"DEL\")) %>%\n",
    "  filter(!(grepl(\",TET2|,TET2\",GENES) & RETYPE == \"DEL\")) %>% \n",
    "  filter(!(grepl(\"^13q14\", CYTOBAND) & RETYPE == \"DEL\")) %>% \n",
    "  filter(!(grepl(\"17p\", CYTOBAND) & RETYPE ==\"DEL\")) %>%\n",
    "  filter(!(grepl(\"^5q14\", CYTOBAND) & RETYPE ==\"DEL\")) %>%\n",
    "  filter(!(grepl(\",ATM|ATM,\", GENES) & RETYPE ==\"DEL\")) %>%\n",
    "  filter(!(grepl(\"15q\", CYTOBAND) & RETYPE == \"DUP\")) %>%\n",
    "  filter(RETYPE != \"CNN-LOH\" ) %>% filter(!(grepl(\"7q34\", CYTOBAND))) %>% filter(!(grepl(\"14q11.2\", CYTOBAND))) %>%\n",
    "  filter(!(CHROM== \"12\" & P_ARM == \"T\" & Q_ARM == \"T\"))\n",
    "\n",
    "nrow(df_mosaic_loci)\n",
    "df_counts_total <- df_mosaic_loci  %>% group_by(label) %>% distinct(SAMPLE,.keep_all = TRUE) %>% \n",
    "                        summarise(burden=n()) %>% ungroup() %>% mutate(burden_fraction = burden/c(n_ctrl,n_dx))\n",
    "head(df_counts_total)\n",
    "\n",
    "fisher.test(matrix(c(df_counts_total$burden[2],n_dx-df_counts_total$burden[2],\n",
    "                     df_counts_total$burden[1],n_ctrl-df_counts_total$burden[1]), ncol=2, byrow = TRUE),\n",
    "            alternative = \"two.sided\")\n",
    "\n",
    "\n",
    "cat(\"Sample filtering\\n\")\n",
    "many_calls = df_mosaic_loci %>% group_by(SAMPLE) %>% summarise(n=n())  %>% filter(n > 5)\n",
    "df_mosaic_final <- df_mosaic_loci %>%  filter(!(SAMPLE %in% many_calls$SAMPLE)) \n",
    "nrow(df_mosaic_final)\n",
    "\n",
    "df_counts_total <- df_mosaic_final  %>% group_by(label) %>% distinct(SAMPLE,.keep_all = TRUE) %>% \n",
    "                        summarise(burden=n()) %>% ungroup() %>% mutate(burden_fraction = burden/c(n_ctrl,n_dx))\n",
    "head(df_counts_total)\n",
    "\n",
    "fisher.test(matrix(c(df_counts_total$burden[2],n_dx-df_counts_total$burden[2],\n",
    "                     df_counts_total$burden[1],n_ctrl-df_counts_total$burden[1]), ncol=2, byrow = TRUE),\n",
    "            alternative = \"two.sided\")\n"
   ]
  },
  {
   "cell_type": "code",
   "execution_count": 41,
   "id": "d7a2a48d",
   "metadata": {},
   "outputs": [
    {
     "data": {
      "image/png": "[encoded data removed]",
      "text/plain": [
       "plot without title"
      ]
     },
     "metadata": {
      "image/png": {
       "height": 240,
       "width": 240
      }
     },
     "output_type": "display_data"
    }
   ],
   "source": []
  },
  {
   "cell_type": "code",
   "execution_count": 43,
   "id": "e69643e9",
   "metadata": {},
   "outputs": [
    {
     "name": "stderr",
     "output_type": "stream",
     "text": [
      "Joining, by = c(\"SAMPLE\", \"SEX\", \"CHROM\", \"BEG_GRCh37\", \"END_GRCh37\", \"LENGTH\", \"P_ARM\", \"Q_ARM\", \"N_SITES\", \"NHETS\", \"N50_HETS\", \"BDEV\", \"BDEV_SE\", \"REL_COV\", \"REL_COV_SE\", \"LOD_LRR_BAF\", \"LOD_BAF_PHASE\", \"N_FLIPS\", \"BAF_CONC\", \"LOD_BAF_CONC\", \"TYPE\", \"CF\", \"batch\", \"arrayName\", \"FailedQC\", \"SAMPLE_BAF_SD\", \"LDEV\", \"LRR_SD\", \"BAF_AUTO\", \"SAMPLE_MULTICALL\", \"SAMPLE_BAF_SD_FLAG\", \"OVRLP_1KG\", \"identifier\", \"OVRLP_PGC\", \"OVRLP_CONTROL\", \"p_DUP\", \"p_LOH\", \"p_DEL\", \"Posterior\", \"RETYPE\", \"label\", \"CYTOBAND\", \"GENES\", \"number_genes\", \"log_number_genes\", \"high_pLI_genes\", \"brain_genes\", \"synaptic_genes\", \"abc_genes\")\n",
      "\n"
     ]
    },
    {
     "data": {
      "text/html": [
       "1143"
      ],
      "text/latex": [
       "1143"
      ],
      "text/markdown": [
       "1143"
      ],
      "text/plain": [
       "[1] 1143"
      ]
     },
     "metadata": {},
     "output_type": "display_data"
    },
    {
     "data": {
      "text/html": [
       "<table class=\"dataframe\">\n",
       "<caption>A tibble: 2 × 3</caption>\n",
       "<thead>\n",
       "\t<tr><th scope=col>label</th><th scope=col>burden</th><th scope=col>burden_fraction</th></tr>\n",
       "\t<tr><th scope=col>&lt;chr&gt;</th><th scope=col>&lt;int&gt;</th><th scope=col>&lt;dbl&gt;</th></tr>\n",
       "</thead>\n",
       "<tbody>\n",
       "\t<tr><td>ctrl</td><td>513</td><td>0.04404190</td></tr>\n",
       "\t<tr><td>SCZ </td><td>446</td><td>0.03475144</td></tr>\n",
       "</tbody>\n",
       "</table>\n"
      ],
      "text/latex": [
       "A tibble: 2 × 3\n",
       "\\begin{tabular}{lll}\n",
       " label & burden & burden\\_fraction\\\\\n",
       " <chr> & <int> & <dbl>\\\\\n",
       "\\hline\n",
       "\t ctrl & 513 & 0.04404190\\\\\n",
       "\t SCZ  & 446 & 0.03475144\\\\\n",
       "\\end{tabular}\n"
      ],
      "text/markdown": [
       "\n",
       "A tibble: 2 × 3\n",
       "\n",
       "| label &lt;chr&gt; | burden &lt;int&gt; | burden_fraction &lt;dbl&gt; |\n",
       "|---|---|---|\n",
       "| ctrl | 513 | 0.04404190 |\n",
       "| SCZ  | 446 | 0.03475144 |\n",
       "\n"
      ],
      "text/plain": [
       "  label burden burden_fraction\n",
       "1 ctrl  513    0.04404190     \n",
       "2 SCZ   446    0.03475144     "
      ]
     },
     "metadata": {},
     "output_type": "display_data"
    },
    {
     "data": {
      "text/plain": [
       "\n",
       "\tFisher's Exact Test for Count Data\n",
       "\n",
       "data:  matrix(c(df_counts_total$burden[2], n_dx - df_counts_total$burden[2], df_counts_total$burden[1], n_ctrl - df_counts_total$burden[1]), ncol = 2, byrow = TRUE)\n",
       "p-value = 0.0001916\n",
       "alternative hypothesis: true odds ratio is not equal to 1\n",
       "95 percent confidence interval:\n",
       " 0.6849547 0.8912845\n",
       "sample estimates:\n",
       "odds ratio \n",
       " 0.7814709 \n"
      ]
     },
     "metadata": {},
     "output_type": "display_data"
    }
   ],
   "source": [
    "df_tmp = df_mosaic_final %>% dplyr::select(-c(\"low_qual\"))\n",
    "df_chip = anti_join(df_mosaic0, df_tmp)\n",
    "\n",
    "## number of events filtered as chip\n",
    "nrow(df_chip)\n",
    "\n",
    "df_counts_total <- df_chip  %>% group_by(label) %>% distinct(SAMPLE,.keep_all = TRUE) %>% \n",
    "                        summarise(burden=n()) %>% ungroup() %>% mutate(burden_fraction = burden/c(n_ctrl,n_dx))\n",
    "head(df_counts_total)\n",
    "\n",
    "fisher.test(matrix(c(df_counts_total$burden[2],n_dx-df_counts_total$burden[2],\n",
    "                     df_counts_total$burden[1],n_ctrl-df_counts_total$burden[1]), ncol=2, byrow = TRUE),\n",
    "            alternative = \"two.sided\")"
   ]
  },
  {
   "cell_type": "code",
   "execution_count": 46,
   "id": "f3c33134",
   "metadata": {},
   "outputs": [
    {
     "data": {
      "image/png": "[encoded data removed]",
      "text/plain": [
       "plot without title"
      ]
     },
     "metadata": {
      "image/png": {
       "height": 240,
       "width": 240
      }
     },
     "output_type": "display_data"
    }
   ],
   "source": [
    "df_plot = data.frame(filter_stage = c(\"QC only\",\"(-)MHC,IGL,KIR\",\"(-)CN-LOH\",\"(-)CHIP Loci\",\"(-)Samples > 5 sCNV\",\n",
    "                                     \"(+)CHIP variants only\"),\n",
    "                    OR= c(0.863,0.913, 1.5286,1.7928,1.792161,0.781), low_ci = c(0.764,0.803,1.1831,1.305,1.3011,0.685), \n",
    "                     high_ci=c(0.98,1.0386,1.9836,2.484,2.4907,0.891))\n",
    "\n",
    "options(repr.plot.width=4, repr.plot.height=4)\n",
    "df_plot %>% mutate(filter_stage = factor(filter_stage,\n",
    "                                         levels=c(\"QC only\",\"(-)MHC,IGL,KIR\",\"(-)CN-LOH\",\"(-)CHIP Loci\",\"(-)Samples > 5 sCNV\",\n",
    "                                                 \"(+)CHIP variants only\"))) %>%\n",
    "    ggplot(aes(x=filter_stage,y=OR)) + geom_pointrange(aes(ymin=low_ci,ymax=high_ci), size=1)+\n",
    "    theme_classic(16) + geom_hline(yintercept = 1,linetype=2) + theme(axis.text.x = element_text(angle=45, vjust=1, hjust=1)) +\n",
    "    labs(x=\"CHIP filtering stage\\n and CHIP variants\",y= \"Odds Ratio\")"
   ]
  }
 ],
 "metadata": {
  "kernelspec": {
   "display_name": "R",
   "language": "R",
   "name": "ir"
  },
  "language_info": {
   "codemirror_mode": "r",
   "file_extension": ".r",
   "mimetype": "text/x-r-source",
   "name": "R",
   "pygments_lexer": "r",
   "version": "4.0.3"
  }
 },
 "nbformat": 4,
 "nbformat_minor": 5
}
